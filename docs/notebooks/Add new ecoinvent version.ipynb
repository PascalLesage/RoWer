{
 "cells": [
  {
   "cell_type": "code",
   "execution_count": 1,
   "metadata": {},
   "outputs": [],
   "source": [
    "from brightway2 import *\n",
    "from rower import *"
   ]
  },
  {
   "cell_type": "code",
   "execution_count": 2,
   "metadata": {},
   "outputs": [],
   "source": [
    "projects.set_current(\"RoW generation\")"
   ]
  },
  {
   "cell_type": "code",
   "execution_count": 5,
   "metadata": {},
   "outputs": [],
   "source": [
    "dbs = [\n",
    "    (\"/Users/cmutel/Documents/LCA/Ecoinvent/3.5/cutoff/datasets\", \"3.5 cutoff\"),\n",
    "    (\"/Users/cmutel/Documents/LCA/Ecoinvent/3.5/apos/datasets\", \"3.5 apos\"),\n",
    "    (\"/Users/cmutel/Documents/LCA/Ecoinvent/3.5/consequential/datasets\", \"3.5 consequential\"),    \n",
    "]"
   ]
  },
  {
   "cell_type": "markdown",
   "metadata": {},
   "source": [
    "To make things faster, I disabled the code to rebuild the SQLite indices, and also disabled creating the Whoosh search index."
   ]
  },
  {
   "cell_type": "code",
   "execution_count": 6,
   "metadata": {
    "scrolled": false
   },
   "outputs": [
    {
     "name": "stdout",
     "output_type": "stream",
     "text": [
      "Extracting XML data from 16045 datasets\n",
      "Extracted 16045 datasets in 154.80 seconds\n",
      "Applying strategy: normalize_units\n",
      "Applying strategy: update_ecoinvent_locations\n",
      "Applying strategy: remove_zero_amount_coproducts\n",
      "Applying strategy: remove_zero_amount_inputs_with_no_activity\n",
      "Applying strategy: remove_unnamed_parameters\n",
      "Applying strategy: es2_assign_only_product_with_amount_as_reference_product\n",
      "Applying strategy: assign_single_product_as_activity\n",
      "Applying strategy: create_composite_code\n",
      "Applying strategy: drop_unspecified_subcategories\n",
      "Applying strategy: fix_ecoinvent_flows_pre35\n",
      "Applying strategy: drop_temporary_outdated_biosphere_flows\n"
     ]
    },
    {
     "name": "stderr",
     "output_type": "stream",
     "text": [
      "/Users/cmutel/miniconda3/envs/rower/lib/python3.6/site-packages/bw2io/strategies/ecospold2.py:212: UserWarning: Skipping migration 'fix-ecoinvent-flows-pre-35' because it isn't installed\n",
      "  \"Skipping migration 'fix-ecoinvent-flows-pre-35' \"\n"
     ]
    },
    {
     "name": "stdout",
     "output_type": "stream",
     "text": [
      "Applying strategy: link_biosphere_by_flow_uuid\n",
      "Applying strategy: link_internal_technosphere_by_composite_code\n",
      "Applying strategy: delete_exchanges_missing_activity\n",
      "Applying strategy: delete_ghost_exchanges\n",
      "Applying strategy: remove_uncertainty_from_negative_loss_exchanges\n",
      "Applying strategy: fix_unreasonably_high_lognormal_uncertainties\n",
      "Applying strategy: set_lognormal_loc_value\n",
      "Applying strategy: convert_activity_parameters_to_list\n",
      "Applied 19 strategies in 7.54 seconds\n",
      "16045 datasets\n",
      "798743 exchanges\n",
      "0 unlinked exchanges\n",
      "  \n"
     ]
    },
    {
     "name": "stderr",
     "output_type": "stream",
     "text": [
      "Writing activities to SQLite3 database:\n",
      "0%                          100%\n",
      "[##############################] | ETA: 00:00:00\n",
      "Total time elapsed: 00:01:15\n"
     ]
    },
    {
     "name": "stdout",
     "output_type": "stream",
     "text": [
      "Title: Writing activities to SQLite3 database:\n",
      "  Started: 09/07/2018 11:03:16\n",
      "  Finished: 09/07/2018 11:04:32\n",
      "  Total time elapsed: 00:01:15\n",
      "  CPU %: 92.00\n",
      "  Memory %: 11.51\n",
      "Created database: 3.5 apos\n",
      "Extracting XML data from 14488 datasets\n",
      "Extracted 14488 datasets in 80.83 seconds\n",
      "Applying strategy: normalize_units\n",
      "Applying strategy: update_ecoinvent_locations\n",
      "Applying strategy: remove_zero_amount_coproducts\n",
      "Applying strategy: remove_zero_amount_inputs_with_no_activity\n",
      "Applying strategy: remove_unnamed_parameters\n",
      "Applying strategy: es2_assign_only_product_with_amount_as_reference_product\n",
      "Applying strategy: assign_single_product_as_activity\n",
      "Applying strategy: create_composite_code\n",
      "Applying strategy: drop_unspecified_subcategories\n",
      "Applying strategy: fix_ecoinvent_flows_pre35\n",
      "Applying strategy: drop_temporary_outdated_biosphere_flows\n"
     ]
    },
    {
     "name": "stderr",
     "output_type": "stream",
     "text": [
      "/Users/cmutel/miniconda3/envs/rower/lib/python3.6/site-packages/bw2io/strategies/ecospold2.py:212: UserWarning: Skipping migration 'fix-ecoinvent-flows-pre-35' because it isn't installed\n",
      "  \"Skipping migration 'fix-ecoinvent-flows-pre-35' \"\n"
     ]
    },
    {
     "name": "stdout",
     "output_type": "stream",
     "text": [
      "Applying strategy: link_biosphere_by_flow_uuid\n",
      "Applying strategy: link_internal_technosphere_by_composite_code\n",
      "Applying strategy: delete_exchanges_missing_activity\n",
      "Applying strategy: delete_ghost_exchanges\n",
      "2 exchanges couldn't be linked and were deleted. See the logfile for details:\n",
      "\t/Users/cmutel/Library/Logs/Brightway3/RoW-generation.3c2f62ecccd4625845dbffb32aef3443/Ecospold2-import-error.Zt9JsB.log\n",
      "Applying strategy: remove_uncertainty_from_negative_loss_exchanges\n",
      "Applying strategy: fix_unreasonably_high_lognormal_uncertainties\n",
      "Applying strategy: set_lognormal_loc_value\n",
      "Applying strategy: convert_activity_parameters_to_list\n",
      "Applied 19 strategies in 4.55 seconds\n",
      "14488 datasets\n",
      "412196 exchanges\n",
      "0 unlinked exchanges\n",
      "  \n"
     ]
    },
    {
     "name": "stderr",
     "output_type": "stream",
     "text": [
      "Writing activities to SQLite3 database:\n",
      "0%                          100%\n",
      "[##############################] | ETA: 00:00:00\n",
      "Total time elapsed: 00:00:40\n"
     ]
    },
    {
     "name": "stdout",
     "output_type": "stream",
     "text": [
      "Title: Writing activities to SQLite3 database:\n",
      "  Started: 09/07/2018 11:07:07\n",
      "  Finished: 09/07/2018 11:07:48\n",
      "  Total time elapsed: 00:00:40\n",
      "  CPU %: 91.50\n",
      "  Memory %: 13.90\n",
      "Created database: 3.5 consequential\n"
     ]
    }
   ],
   "source": [
    "for x, y in dbs:\n",
    "    ei = SingleOutputEcospold2Importer(x, y)\n",
    "    ei.apply_strategies()\n",
    "    assert not ei.statistics()[2]\n",
    "    ei.write_database()"
   ]
  },
  {
   "cell_type": "markdown",
   "metadata": {},
   "source": [
    "Use built-in function to add new definitions"
   ]
  },
  {
   "cell_type": "code",
   "execution_count": 3,
   "metadata": {},
   "outputs": [],
   "source": [
    "from rower.updating import update_ecoinvent_definitions"
   ]
  },
  {
   "cell_type": "code",
   "execution_count": 4,
   "metadata": {},
   "outputs": [
    {
     "name": "stdout",
     "output_type": "stream",
     "text": [
      "Processing 3.5 cutoff\n",
      "Adding 15 new RoWs\n",
      "Processing 3.5 apos\n",
      "Adding 2 new RoWs\n",
      "Processing 3.5 consequential\n"
     ]
    }
   ],
   "source": [
    "update_ecoinvent_definitions(['3.5 cutoff', '3.5 apos', '3.5 consequential'])"
   ]
  }
 ],
 "metadata": {
  "kernelspec": {
   "display_name": "Python 3",
   "language": "python",
   "name": "python3"
  },
  "language_info": {
   "codemirror_mode": {
    "name": "ipython",
    "version": 3
   },
   "file_extension": ".py",
   "mimetype": "text/x-python",
   "name": "python",
   "nbconvert_exporter": "python",
   "pygments_lexer": "ipython3",
   "version": "3.6.5"
  },
  "toc": {
   "colors": {
    "hover_highlight": "#DAA520",
    "running_highlight": "#FF0000",
    "selected_highlight": "#FFD700"
   },
   "moveMenuLeft": true,
   "nav_menu": {
    "height": "12px",
    "width": "252px"
   },
   "navigate_menu": true,
   "number_sections": true,
   "sideBar": true,
   "threshold": 4,
   "toc_cell": false,
   "toc_section_display": "block",
   "toc_window_display": false
  }
 },
 "nbformat": 4,
 "nbformat_minor": 2
}

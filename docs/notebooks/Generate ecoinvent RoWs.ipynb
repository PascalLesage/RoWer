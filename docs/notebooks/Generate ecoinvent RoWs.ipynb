{
 "cells": [
  {
   "cell_type": "code",
   "execution_count": 1,
   "metadata": {},
   "outputs": [],
   "source": [
    "from brightway2 import *\n",
    "from rower import *"
   ]
  },
  {
   "cell_type": "code",
   "execution_count": 2,
   "metadata": {},
   "outputs": [],
   "source": [
    "projects.set_current(\"RoW generation\")"
   ]
  },
  {
   "cell_type": "code",
   "execution_count": 3,
   "metadata": {},
   "outputs": [
    {
     "name": "stdout",
     "output_type": "stream",
     "text": [
      "Creating default biosphere\n",
      "\n",
      "Applying strategy: normalize_units\n",
      "Applying strategy: drop_unspecified_subcategories\n",
      "Applied 2 strategies in 0.01 seconds\n"
     ]
    },
    {
     "name": "stderr",
     "output_type": "stream",
     "text": [
      "Writing activities to SQLite3 database:\n",
      "0%                          100%\n",
      "[##############################] | ETA: 00:00:00\n",
      "Total time elapsed: 00:00:00\n"
     ]
    },
    {
     "name": "stdout",
     "output_type": "stream",
     "text": [
      "Title: Writing activities to SQLite3 database:\n",
      "  Started: 05/25/2018 10:09:22\n",
      "  Finished: 05/25/2018 10:09:22\n",
      "  Total time elapsed: 00:00:00\n",
      "  CPU %: 97.40\n",
      "  Memory %: 0.88\n",
      "Created database: biosphere3\n",
      "Creating default LCIA methods\n",
      "\n",
      "Applying strategy: normalize_units\n",
      "Applying strategy: set_biosphere_type\n",
      "Applying strategy: drop_unspecified_subcategories\n",
      "Applying strategy: link_iterable_by_fields\n",
      "Applied 4 strategies in 1.30 seconds\n",
      "Wrote 718 LCIA methods with 178008 characterization factors\n",
      "Creating core data migrations\n",
      "\n"
     ]
    }
   ],
   "source": [
    "if not len(databases):\n",
    "    bw2setup()"
   ]
  },
  {
   "cell_type": "code",
   "execution_count": 4,
   "metadata": {},
   "outputs": [],
   "source": [
    "dbs = [\n",
    "    (\"/Users/cmutel/Documents/LCA/Ecoinvent/3.3/cutoff/datasets\", \"3.3 cutoff\"),\n",
    "    (\"/Users/cmutel/Documents/LCA/Ecoinvent/3.3/apos/datasets\", \"3.3 apos\"),\n",
    "    (\"/Users/cmutel/Documents/LCA/Ecoinvent/3.3/consequential/datasets\", \"3.3 consequential\"),    \n",
    "    (\"/Users/cmutel/Documents/LCA/Ecoinvent/3.4/cutoff/datasets\", \"3.4 cutoff\"),\n",
    "    (\"/Users/cmutel/Documents/LCA/Ecoinvent/3.4/apos/datasets\", \"3.4 apos\"),\n",
    "    (\"/Users/cmutel/Documents/LCA/Ecoinvent/3.4/consequential/datasets\", \"3.4 consequential\"),    \n",
    "]"
   ]
  },
  {
   "cell_type": "code",
   "execution_count": 5,
   "metadata": {
    "scrolled": false
   },
   "outputs": [
    {
     "name": "stdout",
     "output_type": "stream",
     "text": [
      "Extracting XML data from 13330 datasets\n",
      "Extracted 13330 datasets in 52.16 seconds\n",
      "Applying strategy: normalize_units\n",
      "Applying strategy: update_ecoinvent_locations\n",
      "Applying strategy: remove_zero_amount_coproducts\n",
      "Applying strategy: remove_zero_amount_inputs_with_no_activity\n",
      "Applying strategy: remove_unnamed_parameters\n",
      "Applying strategy: es2_assign_only_product_with_amount_as_reference_product\n",
      "Applying strategy: assign_single_product_as_activity\n",
      "Applying strategy: create_composite_code\n",
      "Applying strategy: drop_unspecified_subcategories\n",
      "Applying strategy: fix_ecoinvent_flows_pre34\n",
      "Applying strategy: link_biosphere_by_flow_uuid\n",
      "Applying strategy: link_internal_technosphere_by_composite_code\n",
      "Applying strategy: delete_exchanges_missing_activity\n",
      "Applying strategy: delete_ghost_exchanges\n",
      "2 exchanges couldn't be linked and were deleted. See the logfile for details:\n",
      "\t/Users/cmutel/Library/Logs/Brightway3/RoW-generation.3c2f62ecccd4625845dbffb32aef3443/Ecospold2-import-error.yttzM4.log\n",
      "Applying strategy: remove_uncertainty_from_negative_loss_exchanges\n",
      "Applying strategy: fix_unreasonably_high_lognormal_uncertainties\n",
      "Applying strategy: set_lognormal_loc_value\n",
      "Applied 17 strategies in 4.63 seconds\n",
      "13330 datasets\n",
      "386126 exchanges\n",
      "0 unlinked exchanges\n",
      "  \n"
     ]
    },
    {
     "name": "stderr",
     "output_type": "stream",
     "text": [
      "Writing activities to SQLite3 database:\n",
      "0%                          100%\n",
      "[##############################] | ETA: 00:00:00\n",
      "Total time elapsed: 00:00:34\n"
     ]
    },
    {
     "name": "stdout",
     "output_type": "stream",
     "text": [
      "Title: Writing activities to SQLite3 database:\n",
      "  Started: 05/25/2018 10:57:34\n",
      "  Finished: 05/25/2018 10:58:08\n",
      "  Total time elapsed: 00:00:34\n",
      "  CPU %: 94.30\n",
      "  Memory %: 5.38\n",
      "Created database: 3.4 consequential\n"
     ]
    }
   ],
   "source": [
    "for x, y in dbs:\n",
    "    ei = SingleOutputEcospold2Importer(x, y)\n",
    "    ei.apply_strategies()\n",
    "    assert not ei.statistics()[2]\n",
    "    ei.write_database()"
   ]
  },
  {
   "cell_type": "code",
   "execution_count": 3,
   "metadata": {},
   "outputs": [],
   "source": [
    "rows = set()\n",
    "\n",
    "for name in databases:\n",
    "    if name == \"biosphere3\":\n",
    "        continue\n",
    "\n",
    "    rower = Rower(name)\n",
    "    data = rower._reformat_rows(rower._load_groups_sqlite())\n",
    "    rows.update(set(data))"
   ]
  },
  {
   "cell_type": "code",
   "execution_count": 4,
   "metadata": {},
   "outputs": [
    {
     "data": {
      "text/plain": [
       "223"
      ]
     },
     "execution_count": 4,
     "metadata": {},
     "output_type": "execute_result"
    }
   ],
   "source": [
    "len(rows)"
   ]
  },
  {
   "cell_type": "code",
   "execution_count": 5,
   "metadata": {
    "scrolled": false
   },
   "outputs": [],
   "source": [
    "rows_master = {\"RoW_{}\".format(i): j for i, j in enumerate(sorted(rows))}\n",
    "master_reversed = {j: i for i, j in rows_master.items()}"
   ]
  },
  {
   "cell_type": "code",
   "execution_count": 8,
   "metadata": {},
   "outputs": [],
   "source": [
    "dp = RowerDatapackage(os.path.join(DATAPATH, \"ecoinvent generic\"))"
   ]
  },
  {
   "cell_type": "code",
   "execution_count": 9,
   "metadata": {},
   "outputs": [],
   "source": [
    "dp.write_data(\"ecoinvent generic\", rows_master)"
   ]
  },
  {
   "cell_type": "code",
   "execution_count": 6,
   "metadata": {},
   "outputs": [
    {
     "name": "stdout",
     "output_type": "stream",
     "text": [
      "3.3 cutoff 181\n",
      "3.3 apos 182\n",
      "3.3 consequential 176\n",
      "3.4 cutoff 186\n",
      "3.4 apos 189\n",
      "3.4 consequential 181\n"
     ]
    }
   ],
   "source": [
    "for name in databases:\n",
    "    if name == \"biosphere3\":\n",
    "        continue\n",
    "    r = Rower(name)    \n",
    "    r.existing = master_reversed\n",
    "    labelled, user_rows = r.define_RoWs()\n",
    "    assert not user_rows\n",
    "    print(name, len(labelled))\n",
    "    rows_used = {i: j for i, j in rows_master.items() if i in labelled}\n",
    "    dp = RowerDatapackage(os.path.join(DATAPATH, \"ecoinvent \" + name))\n",
    "    dp.write_data(\"ecoinvent \" + name, rows_used, labelled)"
   ]
  },
  {
   "cell_type": "code",
   "execution_count": null,
   "metadata": {},
   "outputs": [],
   "source": []
  }
 ],
 "metadata": {
  "kernelspec": {
   "display_name": "Python 3",
   "language": "python",
   "name": "python3"
  },
  "language_info": {
   "codemirror_mode": {
    "name": "ipython",
    "version": 3
   },
   "file_extension": ".py",
   "mimetype": "text/x-python",
   "name": "python",
   "nbconvert_exporter": "python",
   "pygments_lexer": "ipython3",
   "version": "3.6.5"
  }
 },
 "nbformat": 4,
 "nbformat_minor": 2
}
